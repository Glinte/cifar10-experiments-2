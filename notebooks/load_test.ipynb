{
 "cells": [
  {
   "metadata": {
    "ExecuteTime": {
     "end_time": "2024-11-30T01:43:32.929290Z",
     "start_time": "2024-11-30T01:43:20.530356Z"
    }
   },
   "cell_type": "code",
   "source": [
    "import matplotlib.pyplot as plt\n",
    "import torch\n",
    "import timm\n",
    "import torchvision\n",
    "from hw2 import PROJECT_ROOT\n",
    "from hw2.utils import validate_on_cifar\n",
    "from hw2.data.cifar100_lt import CIFAR100LT, get_img_num_per_cls\n",
    "from sklearn import metrics\n",
    "from torch.utils.data import DataLoader"
   ],
   "id": "bb8e8c01ef33d353",
   "outputs": [],
   "execution_count": 1
  },
  {
   "metadata": {
    "ExecuteTime": {
     "end_time": "2024-11-30T01:46:22.495242Z",
     "start_time": "2024-11-30T01:46:18.104618Z"
    }
   },
   "cell_type": "code",
   "source": [
    "model = timm.create_model(\"timm/vit_mediumd_patch16_reg4_gap_384.sbb2_e200_in12k_ft_in1k\")\n",
    "data_config = timm.data.resolve_model_data_config(model)\n",
    "transforms = timm.data.create_transform(**data_config, is_training=False)\n",
    "model.head = torch.nn.Linear(in_features=model.head.in_features, out_features=100)\n",
    "model.load_state_dict(torch.load(PROJECT_ROOT / \"models\" / \"cifar100lt\" / \"vit_0.7399_epochs8.5.pth\"))\n",
    "\n",
    "# model = torchvision.models.resnet18(num_classes=100)\n",
    "# model.load_state_dict(torch.load(PROJECT_ROOT / \"models\" / \"cifar100lt\" / \"resnet18_0.2002_warmup.pth\"))\n",
    "# transforms = CIFAR100LT.basic_test_transform"
   ],
   "id": "28dd3d57b2be233b",
   "outputs": [
    {
     "name": "stderr",
     "output_type": "stream",
     "text": [
      "C:\\Users\\ACER\\AppData\\Local\\Temp\\ipykernel_27000\\2894304262.py:5: FutureWarning: You are using `torch.load` with `weights_only=False` (the current default value), which uses the default pickle module implicitly. It is possible to construct malicious pickle data which will execute arbitrary code during unpickling (See https://github.com/pytorch/pytorch/blob/main/SECURITY.md#untrusted-models for more details). In a future release, the default value for `weights_only` will be flipped to `True`. This limits the functions that could be executed during unpickling. Arbitrary objects will no longer be allowed to be loaded via this mode unless they are explicitly allowlisted by the user via `torch.serialization.add_safe_globals`. We recommend you start setting `weights_only=True` for any use case where you don't have full control of the loaded file. Please open an issue on GitHub for any issues related to this experimental feature.\n",
      "  model.load_state_dict(torch.load(PROJECT_ROOT / \"models\" / \"cifar100lt\" / \"vit_0.7399_epochs8.5.pth\"))\n"
     ]
    },
    {
     "data": {
      "text/plain": [
       "<All keys matched successfully>"
      ]
     },
     "execution_count": 7,
     "metadata": {},
     "output_type": "execute_result"
    }
   ],
   "execution_count": 7
  },
  {
   "metadata": {
    "ExecuteTime": {
     "end_time": "2024-11-30T01:44:37.814963Z",
     "start_time": "2024-11-30T01:44:32.074617Z"
    }
   },
   "cell_type": "code",
   "source": [
    "import pdb\n",
    "criterion = torch.nn.CrossEntropyLoss()\n",
    "\n",
    "results = validate_on_cifar(model, criterion, transforms, device=torch.device(\"cuda\"), cifar_dataset=\"CIFAR100LT\")\n",
    "results"
   ],
   "id": "d2b2f84a0a6c6c08",
   "outputs": [
    {
     "name": "stdout",
     "output_type": "stream",
     "text": [
      "Files already downloaded and verified\n"
     ]
    },
    {
     "data": {
      "text/plain": [
       "{'loss': 7.152597578265999, 'accuracy': 0.2002}"
      ]
     },
     "execution_count": 3,
     "metadata": {},
     "output_type": "execute_result"
    }
   ],
   "execution_count": 3
  },
  {
   "metadata": {
    "ExecuteTime": {
     "end_time": "2024-11-30T01:38:08.665856Z",
     "start_time": "2024-11-30T01:38:04.999891Z"
    }
   },
   "cell_type": "code",
   "source": [
    "device = torch.device(\"cuda\")\n",
    "model.to(device).eval()\n",
    "\n",
    "dataset = CIFAR100LT(root=PROJECT_ROOT / \"data\", train=False, download=True, transform=CIFAR100LT.basic_test_transform)\n",
    "test_loader = DataLoader(\n",
    "    dataset,\n",
    "    batch_size=128,\n",
    "    shuffle=False,\n",
    ")\n",
    "\n",
    "predictions = []\n",
    "all_labels = []\n",
    "for data in test_loader:\n",
    "    inputs, labels = data\n",
    "    inputs, labels = inputs.to(device), labels.to(device)\n",
    "\n",
    "    outputs: torch.Tensor = model(inputs)\n",
    "    predicted = outputs.argmax(dim=1)\n",
    "    predictions.append(predicted)\n",
    "    all_labels.append(labels)\n",
    "\n",
    "predictions = torch.cat(predictions).cpu()\n",
    "all_labels = torch.cat(all_labels).cpu()\n",
    "\n",
    "report = metrics.classification_report(all_labels, predictions, target_names=dataset.classes, digits=4)\n",
    "print(report)"
   ],
   "id": "676dddc548a73fc5",
   "outputs": [
    {
     "name": "stdout",
     "output_type": "stream",
     "text": [
      "Files already downloaded and verified\n",
      "               precision    recall  f1-score   support\n",
      "\n",
      "        apple       0.32      0.71      0.44       100\n",
      "aquarium_fish       0.21      0.51      0.29       100\n",
      "         baby       0.15      0.23      0.18       100\n",
      "         bear       0.08      0.17      0.11       100\n",
      "       beaver       0.12      0.21      0.15       100\n",
      "          bed       0.13      0.25      0.17       100\n",
      "          bee       0.15      0.47      0.23       100\n",
      "       beetle       0.13      0.46      0.21       100\n",
      "      bicycle       0.12      0.31      0.18       100\n",
      "       bottle       0.21      0.45      0.29       100\n",
      "         bowl       0.08      0.11      0.09       100\n",
      "          boy       0.15      0.22      0.18       100\n",
      "       bridge       0.15      0.40      0.22       100\n",
      "          bus       0.13      0.31      0.18       100\n",
      "    butterfly       0.12      0.21      0.15       100\n",
      "        camel       0.16      0.36      0.22       100\n",
      "          can       0.16      0.24      0.20       100\n",
      "       castle       0.28      0.55      0.37       100\n",
      "  caterpillar       0.18      0.35      0.23       100\n",
      "       cattle       0.14      0.27      0.18       100\n",
      "        chair       0.37      0.62      0.46       100\n",
      "   chimpanzee       0.19      0.32      0.24       100\n",
      "        clock       0.08      0.12      0.10       100\n",
      "        cloud       0.28      0.56      0.37       100\n",
      "    cockroach       0.22      0.67      0.33       100\n",
      "        couch       0.14      0.24      0.18       100\n",
      "         crab       0.11      0.19      0.14       100\n",
      "    crocodile       0.10      0.21      0.13       100\n",
      "          cup       0.23      0.34      0.28       100\n",
      "     dinosaur       0.15      0.22      0.18       100\n",
      "      dolphin       0.23      0.62      0.33       100\n",
      "     elephant       0.17      0.25      0.21       100\n",
      "     flatfish       0.13      0.19      0.16       100\n",
      "       forest       0.22      0.24      0.23       100\n",
      "          fox       0.14      0.20      0.17       100\n",
      "         girl       0.14      0.16      0.15       100\n",
      "      hamster       0.27      0.25      0.26       100\n",
      "        house       0.13      0.13      0.13       100\n",
      "     kangaroo       0.13      0.14      0.14       100\n",
      "     keyboard       0.18      0.19      0.19       100\n",
      "         lamp       0.24      0.23      0.24       100\n",
      "   lawn_mower       0.40      0.39      0.40       100\n",
      "      leopard       0.23      0.16      0.19       100\n",
      "         lion       0.22      0.20      0.21       100\n",
      "       lizard       0.05      0.05      0.05       100\n",
      "      lobster       0.05      0.05      0.05       100\n",
      "          man       0.22      0.13      0.16       100\n",
      "   maple_tree       0.40      0.44      0.42       100\n",
      "   motorcycle       0.37      0.39      0.38       100\n",
      "     mountain       0.31      0.18      0.23       100\n",
      "        mouse       0.06      0.03      0.04       100\n",
      "     mushroom       0.20      0.13      0.16       100\n",
      "     oak_tree       0.36      0.64      0.46       100\n",
      "       orange       0.48      0.50      0.49       100\n",
      "       orchid       0.37      0.26      0.31       100\n",
      "        otter       0.15      0.05      0.07       100\n",
      "    palm_tree       0.23      0.14      0.17       100\n",
      "         pear       0.08      0.03      0.04       100\n",
      " pickup_truck       0.20      0.12      0.15       100\n",
      "    pine_tree       0.08      0.04      0.05       100\n",
      "        plain       0.57      0.55      0.56       100\n",
      "        plate       0.13      0.04      0.06       100\n",
      "        poppy       0.41      0.26      0.32       100\n",
      "    porcupine       0.26      0.09      0.13       100\n",
      "       possum       0.06      0.02      0.03       100\n",
      "       rabbit       0.14      0.04      0.06       100\n",
      "      raccoon       0.12      0.03      0.05       100\n",
      "          ray       0.09      0.04      0.06       100\n",
      "         road       0.47      0.42      0.44       100\n",
      "       rocket       0.29      0.09      0.14       100\n",
      "         rose       0.27      0.06      0.10       100\n",
      "          sea       0.50      0.23      0.32       100\n",
      "         seal       0.04      0.01      0.02       100\n",
      "        shark       0.29      0.08      0.12       100\n",
      "        shrew       0.03      0.01      0.01       100\n",
      "        skunk       0.49      0.24      0.32       100\n",
      "   skyscraper       0.71      0.30      0.42       100\n",
      "        snail       0.10      0.01      0.02       100\n",
      "        snake       0.17      0.04      0.06       100\n",
      "       spider       0.07      0.01      0.02       100\n",
      "     squirrel       0.12      0.01      0.02       100\n",
      "    streetcar       0.08      0.01      0.02       100\n",
      "    sunflower       0.53      0.08      0.14       100\n",
      " sweet_pepper       0.16      0.03      0.05       100\n",
      "        table       0.14      0.03      0.05       100\n",
      "         tank       0.27      0.04      0.07       100\n",
      "    telephone       0.47      0.08      0.14       100\n",
      "   television       0.25      0.03      0.05       100\n",
      "        tiger       0.00      0.00      0.00       100\n",
      "      tractor       0.29      0.02      0.04       100\n",
      "        train       0.12      0.01      0.02       100\n",
      "        trout       0.42      0.05      0.09       100\n",
      "        tulip       0.19      0.04      0.07       100\n",
      "       turtle       0.00      0.00      0.00       100\n",
      "     wardrobe       0.56      0.09      0.16       100\n",
      "        whale       0.47      0.07      0.12       100\n",
      "  willow_tree       0.20      0.01      0.02       100\n",
      "         wolf       0.14      0.01      0.02       100\n",
      "        woman       0.20      0.01      0.02       100\n",
      "         worm       0.18      0.02      0.04       100\n",
      "\n",
      "     accuracy                           0.20     10000\n",
      "    macro avg       0.22      0.20      0.17     10000\n",
      " weighted avg       0.22      0.20      0.17     10000\n",
      "\n"
     ]
    }
   ],
   "execution_count": 27
  },
  {
   "metadata": {
    "jupyter": {
     "is_executing": true
    },
    "ExecuteTime": {
     "start_time": "2024-11-30T01:47:11.900964Z"
    }
   },
   "cell_type": "code",
   "source": [
    "from hw2.visualization import plot_per_class_accuracy\n",
    "from matplotlib import pyplot as plt\n",
    "\n",
    "dataset = CIFAR100LT(root=PROJECT_ROOT / \"data\", train=False, download=True, transform=transforms)\n",
    "test_loader = DataLoader(\n",
    "    dataset,\n",
    "    batch_size=128,\n",
    "    shuffle=False,\n",
    ")\n",
    "model.to(torch.device(\"cuda\")).eval()\n",
    "plot_per_class_accuracy({\"model\": model}, dataloader=test_loader, labelnames=dataset.classes, img_num_per_cls=get_img_num_per_cls(100, \"exp\", 0.01, 500), device=torch.device(\"cuda\"))\n",
    "plt.savefig(PROJECT_ROOT / \"artifacts\" / \"vit_per_class_accuracy.png\")"
   ],
   "id": "622ffad2f35d76c",
   "outputs": [
    {
     "name": "stdout",
     "output_type": "stream",
     "text": [
      "Files already downloaded and verified\n"
     ]
    }
   ],
   "execution_count": null
  },
  {
   "metadata": {},
   "cell_type": "code",
   "outputs": [],
   "execution_count": null,
   "source": "",
   "id": "2af4169f4c70f215"
  }
 ],
 "metadata": {
  "kernelspec": {
   "display_name": "Python 3",
   "language": "python",
   "name": "python3"
  },
  "language_info": {
   "codemirror_mode": {
    "name": "ipython",
    "version": 2
   },
   "file_extension": ".py",
   "mimetype": "text/x-python",
   "name": "python",
   "nbconvert_exporter": "python",
   "pygments_lexer": "ipython2",
   "version": "2.7.6"
  }
 },
 "nbformat": 4,
 "nbformat_minor": 5
}
