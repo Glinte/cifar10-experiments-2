{
 "cells": [
  {
   "metadata": {
    "ExecuteTime": {
     "end_time": "2024-11-18T10:06:38.831287Z",
     "start_time": "2024-11-18T10:05:36.633019Z"
    }
   },
   "cell_type": "code",
   "source": [
    "import logging\n",
    "from pathlib import Path\n",
    "\n",
    "import torch\n",
    "from torch import nn, optim\n",
    "from torch.utils.data import DataLoader\n",
    "from torchvision.datasets import CIFAR10, FashionMNIST\n",
    "from torchvision.transforms import v2\n",
    "\n",
    "from hw2.util import find_mean_and_stddev"
   ],
   "id": "1ac5dcffb1e001a6",
   "outputs": [],
   "execution_count": 2
  },
  {
   "metadata": {
    "ExecuteTime": {
     "end_time": "2024-11-18T10:06:38.865632Z",
     "start_time": "2024-11-18T10:06:38.860947Z"
    }
   },
   "cell_type": "code",
   "source": "logger = logging.getLogger(__name__)",
   "id": "df4b8fdce86bd13b",
   "outputs": [],
   "execution_count": 3
  },
  {
   "metadata": {
    "ExecuteTime": {
     "end_time": "2024-11-18T10:06:39.563888Z",
     "start_time": "2024-11-18T10:06:38.932331Z"
    }
   },
   "cell_type": "code",
   "source": [
    "PROJECT_ROOT = Path(\"../\").resolve()\n",
    "device = torch.device(\"cuda\" if torch.cuda.is_available() else \"cpu\")"
   ],
   "id": "fb069a520752327b",
   "outputs": [],
   "execution_count": 4
  },
  {
   "metadata": {
    "ExecuteTime": {
     "end_time": "2024-11-18T10:06:39.576434Z",
     "start_time": "2024-11-18T10:06:39.570886Z"
    }
   },
   "cell_type": "code",
   "source": [
    "transform = v2.Compose([\n",
    "    v2.ToImage(),\n",
    "    v2.ToDtype(torch.float32, scale=True),\n",
    "])"
   ],
   "id": "979a6dee0c34b34e",
   "outputs": [],
   "execution_count": 5
  },
  {
   "metadata": {
    "ExecuteTime": {
     "end_time": "2024-11-18T10:06:43.265738Z",
     "start_time": "2024-11-18T10:06:39.587629Z"
    }
   },
   "cell_type": "code",
   "source": [
    "cifar10_train_dataset = CIFAR10(root=PROJECT_ROOT / \"data\", train=True, download=True, transform=transform)\n",
    "fashion_mnist_train_dataset = FashionMNIST(root=PROJECT_ROOT / \"data\", train=True, download=True, transform=transform)"
   ],
   "id": "40f5c6fdbc72ada5",
   "outputs": [
    {
     "name": "stdout",
     "output_type": "stream",
     "text": [
      "Files already downloaded and verified\n"
     ]
    }
   ],
   "execution_count": 6
  },
  {
   "metadata": {
    "ExecuteTime": {
     "end_time": "2024-11-16T03:34:09.200944Z",
     "start_time": "2024-11-16T03:33:44.579464Z"
    }
   },
   "cell_type": "code",
   "source": "find_mean_and_stddev(cifar10_train_dataset)",
   "id": "75052ee471039fb8",
   "outputs": [
    {
     "data": {
      "text/plain": [
       "((0.49140113592147827, 0.48215916752815247, 0.44653093814849854),\n",
       " (0.24702699482440948, 0.24348318576812744, 0.2615877687931061))"
      ]
     },
     "execution_count": 6,
     "metadata": {},
     "output_type": "execute_result"
    }
   ],
   "execution_count": 6
  },
  {
   "metadata": {
    "ExecuteTime": {
     "end_time": "2024-11-16T03:34:29.952371Z",
     "start_time": "2024-11-16T03:34:09.214319Z"
    }
   },
   "cell_type": "code",
   "source": "find_mean_and_stddev(fashion_mnist_train_dataset)  # Used as open set data, so this information is not used.",
   "id": "157d0b121baf7bd7",
   "outputs": [
    {
     "data": {
      "text/plain": [
       "((0.2860410809516907,), (0.3530237376689911,))"
      ]
     },
     "execution_count": 7,
     "metadata": {},
     "output_type": "execute_result"
    }
   ],
   "execution_count": 7
  },
  {
   "metadata": {
    "ExecuteTime": {
     "end_time": "2024-11-18T10:06:43.281439Z",
     "start_time": "2024-11-18T10:06:43.276508Z"
    }
   },
   "cell_type": "code",
   "source": [
    "transform = v2.Compose([\n",
    "    v2.ToImage(),\n",
    "    v2.RGB(),\n",
    "    v2.ToDtype(torch.float32, scale=True),\n",
    "    v2.Normalize((0.491, 0.482, 0.446), (0.247, 0.234, 0.262)),\n",
    "])"
   ],
   "id": "d691a6f2d0b8b670",
   "outputs": [],
   "execution_count": 7
  },
  {
   "metadata": {
    "ExecuteTime": {
     "end_time": "2024-11-16T03:34:32.501708Z",
     "start_time": "2024-11-16T03:34:30.073018Z"
    }
   },
   "cell_type": "code",
   "source": [
    "cifar10_train_dataset = CIFAR10(root=PROJECT_ROOT / \"data\", train=True, download=True, transform=transform)\n",
    "cifar10_test_dataset = CIFAR10(root=PROJECT_ROOT / \"data\", train=False, download=True, transform=transform)"
   ],
   "id": "7d6939a21c195ecf",
   "outputs": [
    {
     "name": "stdout",
     "output_type": "stream",
     "text": [
      "Files already downloaded and verified\n",
      "Files already downloaded and verified\n"
     ]
    }
   ],
   "execution_count": 9
  },
  {
   "cell_type": "code",
   "id": "initial_id",
   "metadata": {
    "collapsed": true,
    "ExecuteTime": {
     "end_time": "2024-11-16T03:34:32.583222Z",
     "start_time": "2024-11-16T03:34:32.510404Z"
    }
   },
   "source": [
    "fashion_mnist_train_dataset = FashionMNIST(root=PROJECT_ROOT / \"data\", train=True, download=True, transform=transform)\n",
    "fashion_mnist_test_dataset = FashionMNIST(root=PROJECT_ROOT / \"data\", train=False, download=True, transform=transform)"
   ],
   "outputs": [],
   "execution_count": 10
  },
  {
   "metadata": {
    "ExecuteTime": {
     "end_time": "2024-11-16T03:34:32.611204Z",
     "start_time": "2024-11-16T03:34:32.604207Z"
    }
   },
   "cell_type": "code",
   "source": "cifar10_train_dataset",
   "id": "73854134a45face5",
   "outputs": [
    {
     "data": {
      "text/plain": [
       "Dataset CIFAR10\n",
       "    Number of datapoints: 50000\n",
       "    Root location: D:\\Code\\CISC3027\\hw2\\data\n",
       "    Split: Train\n",
       "    StandardTransform\n",
       "Transform: Compose(\n",
       "                 ToImage()\n",
       "                 RGB()\n",
       "                 ToDtype(scale=True)\n",
       "                 Normalize(mean=[0.491, 0.482, 0.446], std=[0.247, 0.234, 0.262], inplace=False)\n",
       "           )"
      ]
     },
     "execution_count": 11,
     "metadata": {},
     "output_type": "execute_result"
    }
   ],
   "execution_count": 11
  },
  {
   "metadata": {
    "ExecuteTime": {
     "end_time": "2024-11-16T03:34:32.655109Z",
     "start_time": "2024-11-16T03:34:32.646466Z"
    }
   },
   "cell_type": "code",
   "source": "cifar10_train_dataset[0][0].shape",
   "id": "c0aca59ad0f1b772",
   "outputs": [
    {
     "data": {
      "text/plain": [
       "torch.Size([3, 32, 32])"
      ]
     },
     "execution_count": 12,
     "metadata": {},
     "output_type": "execute_result"
    }
   ],
   "execution_count": 12
  },
  {
   "metadata": {
    "ExecuteTime": {
     "end_time": "2024-11-16T03:34:32.715317Z",
     "start_time": "2024-11-16T03:34:32.708316Z"
    }
   },
   "cell_type": "code",
   "source": "fashion_mnist_train_dataset",
   "id": "6cd0c069046453c7",
   "outputs": [
    {
     "data": {
      "text/plain": [
       "Dataset FashionMNIST\n",
       "    Number of datapoints: 60000\n",
       "    Root location: D:\\Code\\CISC3027\\hw2\\data\n",
       "    Split: Train\n",
       "    StandardTransform\n",
       "Transform: Compose(\n",
       "                 ToImage()\n",
       "                 RGB()\n",
       "                 ToDtype(scale=True)\n",
       "                 Normalize(mean=[0.491, 0.482, 0.446], std=[0.247, 0.234, 0.262], inplace=False)\n",
       "           )"
      ]
     },
     "execution_count": 13,
     "metadata": {},
     "output_type": "execute_result"
    }
   ],
   "execution_count": 13
  },
  {
   "metadata": {
    "ExecuteTime": {
     "end_time": "2024-11-16T03:34:32.760319Z",
     "start_time": "2024-11-16T03:34:32.751315Z"
    }
   },
   "cell_type": "code",
   "source": "fashion_mnist_train_dataset[0][0].shape",
   "id": "fe69b24234ab373",
   "outputs": [
    {
     "data": {
      "text/plain": [
       "torch.Size([3, 28, 28])"
      ]
     },
     "execution_count": 14,
     "metadata": {},
     "output_type": "execute_result"
    }
   ],
   "execution_count": 14
  },
  {
   "metadata": {
    "ExecuteTime": {
     "end_time": "2024-11-16T03:34:35.928255Z",
     "start_time": "2024-11-16T03:34:32.839740Z"
    }
   },
   "cell_type": "code",
   "source": [
    "from hw2.models.cnn_basic import LeNet5\n",
    "\n",
    "model = LeNet5(channels=3).to(device=device)\n",
    "criterion = nn.CrossEntropyLoss()\n",
    "optimizer = optim.Adam(model.parameters(), lr=0.001)\n",
    "train_loader = DataLoader(cifar10_train_dataset, batch_size=4, shuffle=True, num_workers=2)"
   ],
   "id": "97022e76ebb29b74",
   "outputs": [],
   "execution_count": 16
  },
  {
   "metadata": {
    "ExecuteTime": {
     "end_time": "2024-11-16T03:37:28.624924Z",
     "start_time": "2024-11-16T03:34:35.956575Z"
    }
   },
   "cell_type": "code",
   "source": "model.train_loop(criterion, optimizer, train_loader)",
   "id": "2c3ac768c5a8f3c9",
   "outputs": [
    {
     "name": "stdout",
     "output_type": "stream",
     "text": [
      "[1,   500] loss: 0.531\n",
      "[1,  1000] loss: 0.483\n",
      "[1,  1500] loss: 0.445\n",
      "[1,  2000] loss: 0.424\n",
      "[1,  2500] loss: 0.423\n",
      "[1,  3000] loss: 0.404\n",
      "[1,  3500] loss: 0.396\n",
      "[1,  4000] loss: 0.399\n",
      "[1,  4500] loss: 0.395\n",
      "[1,  5000] loss: 0.370\n",
      "[1,  5500] loss: 0.392\n",
      "[1,  6000] loss: 0.375\n",
      "[1,  6500] loss: 0.381\n",
      "[1,  7000] loss: 0.364\n",
      "[1,  7500] loss: 0.358\n",
      "[1,  8000] loss: 0.349\n",
      "[1,  8500] loss: 0.353\n",
      "[1,  9000] loss: 0.349\n",
      "[1,  9500] loss: 0.358\n",
      "[1, 10000] loss: 0.357\n",
      "[1, 10500] loss: 0.353\n",
      "[1, 11000] loss: 0.349\n",
      "[1, 11500] loss: 0.347\n",
      "[1, 12000] loss: 0.348\n",
      "[1, 12500] loss: 0.351\n",
      "[2,   500] loss: 0.336\n",
      "[2,  1000] loss: 0.338\n",
      "[2,  1500] loss: 0.342\n",
      "[2,  2000] loss: 0.328\n",
      "[2,  2500] loss: 0.330\n",
      "[2,  3000] loss: 0.319\n",
      "[2,  3500] loss: 0.334\n",
      "[2,  4000] loss: 0.325\n",
      "[2,  4500] loss: 0.334\n",
      "[2,  5000] loss: 0.329\n",
      "[2,  5500] loss: 0.329\n",
      "[2,  6000] loss: 0.323\n",
      "[2,  6500] loss: 0.333\n",
      "[2,  7000] loss: 0.326\n",
      "[2,  7500] loss: 0.315\n",
      "[2,  8000] loss: 0.309\n",
      "[2,  8500] loss: 0.320\n",
      "[2,  9000] loss: 0.318\n",
      "[2,  9500] loss: 0.323\n",
      "[2, 10000] loss: 0.318\n",
      "[2, 10500] loss: 0.325\n",
      "[2, 11000] loss: 0.311\n",
      "[2, 11500] loss: 0.331\n",
      "[2, 12000] loss: 0.326\n",
      "[2, 12500] loss: 0.308\n"
     ]
    }
   ],
   "execution_count": 17
  },
  {
   "metadata": {
    "ExecuteTime": {
     "end_time": "2024-11-17T01:51:46.971024Z",
     "start_time": "2024-11-17T01:50:26.616989Z"
    }
   },
   "cell_type": "code",
   "source": [
    "model.eval()\n",
    "\n",
    "correct = 0\n",
    "total = 0\n",
    "\n",
    "with torch.no_grad():\n",
    "    for data in DataLoader(cifar10_test_dataset, batch_size=4, shuffle=False, num_workers=2):\n",
    "        images, labels = data\n",
    "        images, labels = images.to(device), labels.to(device)\n",
    "        outputs = model(images)\n",
    "        _, predicted = torch.max(outputs.data, 1)\n",
    "        total += labels.size(0)\n",
    "        correct += (predicted == labels).sum().item()\n",
    "        \n",
    "print(f\"Accuracy of the network on the 10000 test images: {100 * correct / total}%\")"
   ],
   "id": "639997bf589208f9",
   "outputs": [
    {
     "name": "stdout",
     "output_type": "stream",
     "text": [
      "Accuracy of the network on the 10000 test images: 55.28%\n"
     ]
    }
   ],
   "execution_count": 19
  },
  {
   "metadata": {
    "ExecuteTime": {
     "end_time": "2024-11-17T01:53:53.848617Z",
     "start_time": "2024-11-17T01:53:53.807023Z"
    }
   },
   "cell_type": "code",
   "source": [
    "# Load my old model\n",
    "model_hw1 = LeNet5(channels=3)\n",
    "model_hw1.load_state_dict(torch.load(PROJECT_ROOT / \"artifacts\" / \"202409260908_cnn_Adam_5(60).pth\", weights_only=True))\n",
    "model_hw1.to(device=device)"
   ],
   "id": "d51f4af680244d09",
   "outputs": [
    {
     "data": {
      "text/plain": [
       "CNN(\n",
       "  (conv1): Conv2d(3, 6, kernel_size=(5, 5), stride=(1, 1))\n",
       "  (pool): MaxPool2d(kernel_size=2, stride=2, padding=0, dilation=1, ceil_mode=False)\n",
       "  (conv2): Conv2d(6, 16, kernel_size=(5, 5), stride=(1, 1))\n",
       "  (fc1): Linear(in_features=400, out_features=120, bias=True)\n",
       "  (fc2): Linear(in_features=120, out_features=84, bias=True)\n",
       "  (fc3): Linear(in_features=84, out_features=10, bias=True)\n",
       ")"
      ]
     },
     "execution_count": 20,
     "metadata": {},
     "output_type": "execute_result"
    }
   ],
   "execution_count": 20
  },
  {
   "metadata": {
    "ExecuteTime": {
     "end_time": "2024-11-17T03:31:06.859760Z",
     "start_time": "2024-11-17T03:30:54.267565Z"
    }
   },
   "cell_type": "code",
   "source": [
    "model_hw1.eval()\n",
    "\n",
    "correct = 0\n",
    "total = 0\n",
    "\n",
    "with torch.no_grad():\n",
    "    for data in DataLoader(cifar10_test_dataset, batch_size=4, shuffle=False, num_workers=2):\n",
    "        images, labels = data\n",
    "        images, labels = images.to(device), labels.to(device)\n",
    "        outputs = model_hw1(images)\n",
    "        _, predicted = torch.max(outputs.data, 1)\n",
    "        total += labels.size(0)\n",
    "        correct += (predicted == labels).sum().item()\n",
    "\n",
    "print(f\"Accuracy of the network on the 10000 test images: {100 * correct / total}%\")"
   ],
   "id": "54e8d9e4a0b9c61b",
   "outputs": [
    {
     "name": "stdout",
     "output_type": "stream",
     "text": [
      "Accuracy of the network on the 10000 test images: 52.65%\n"
     ]
    }
   ],
   "execution_count": 21
  },
  {
   "metadata": {},
   "cell_type": "code",
   "outputs": [],
   "execution_count": null,
   "source": "",
   "id": "b7cab5b03a95beeb"
  }
 ],
 "metadata": {
  "kernelspec": {
   "display_name": "Python 3",
   "language": "python",
   "name": "python3"
  },
  "language_info": {
   "codemirror_mode": {
    "name": "ipython",
    "version": 2
   },
   "file_extension": ".py",
   "mimetype": "text/x-python",
   "name": "python",
   "nbconvert_exporter": "python",
   "pygments_lexer": "ipython2",
   "version": "2.7.6"
  }
 },
 "nbformat": 4,
 "nbformat_minor": 5
}
